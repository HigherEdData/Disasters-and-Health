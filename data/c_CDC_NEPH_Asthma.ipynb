{
 "cells": [
  {
   "cell_type": "markdown",
   "id": "1d08f522-ba80-4e19-aa47-8364bfe30c36",
   "metadata": {},
   "source": [
    "## Code for downloading and building CDC NEPH Dataset\n"
   ]
  },
  {
   "cell_type": "code",
   "execution_count": 12,
   "id": "55b77ada-1a2f-4a07-a0e5-0f389c2a7d09",
   "metadata": {},
   "outputs": [],
   "source": [
    "// using county level data for race can make it so that i can use race as an interaction. can look at differences in sex across counties and how those ///\n",
    "// differential outcomes change by racial demographics in the counties. AKA it's not showing that wildfires are shaping racial disparities for individuals ///\n",
    "// rather, how wildfires are shaping asthma outcomes for diffferent counties based on their racial demographic."
   ]
  },
  {
   "cell_type": "code",
   "execution_count": 74,
   "id": "49384cb8-65b3-4882-b92a-bbfd56a6a4a2",
   "metadata": {
    "tags": []
   },
   "outputs": [
    {
     "name": "stdout",
     "output_type": "stream",
     "text": [
      "/Users/emilyernst/Desktop/Disasters-and-Health\n",
      "(encoding automatically selected: ISO-8859-2)\n",
      "(9 vars, 580 obs)\n"
     ]
    }
   ],
   "source": [
    "// Setting up Data: Upload \n",
    "// CDC NEPHT Asthma Rates- Hospitalizations for Age-adjusted Rate of Hospitalizations for Asthma per ///\n",
    "// 10,000 Population\n",
    "\n",
    "cd \"/Users/emilyernst/Desktop/Disasters-and-Health\"\n",
    "import delimited using \"data/NEPH- Asthma/d_cdc_hospital_use_asthma.csv\", clear"
   ]
  },
  {
   "cell_type": "code",
   "execution_count": 75,
   "id": "5c8f5847-dba2-4e2e-9ad2-9eb002b882e5",
   "metadata": {
    "tags": []
   },
   "outputs": [
    {
     "name": "stdout",
     "output_type": "stream",
     "text": [
      "\n"
     ]
    },
    {
     "name": "stderr",
     "output_type": "stream",
     "text": [
      "  % Total    % Received % Xferd  Average Speed   Time    Time     Time  Current\n",
      "                                 Dload  Upload   Total   Spent    Left  Speed\n",
      "100  376k  100  375k  100   168   233k    104  0:00:01  0:00:01 --:--:--  233k\n"
     ]
    }
   ],
   "source": [
    "!curl 'https://ephtracking.cdc.gov/DataExplorer/getDataExport/103/10/1/0/false/:_:apigateway:_:api:_:v1:_:getCoreHolder:_:103:_:10:_:1:_:6:_:1:_:2020,2019,2018,2017,2016:_:1:_:0:-:GenderId=1,2?GenderId=1,2' ///\n",
    "  -H 'Content-Type: application/json' ///\n",
    "  --data-raw '{\"geographicTypeIdFilter\":\"1\",\"geographicItemsFilter\":\"6\",\"temporalTypeIdFilter\":null,\"temporalItemsFilter\":\"2020,2019,2018,2017,2016\",\"embedId\":\"\",\"embedParentUrl\":\"\"}' ///\n",
    "  > envirodata.zip"
   ]
  },
  {
   "cell_type": "code",
   "execution_count": 76,
   "id": "a14b7f1c-2023-492d-9331-e75e394d347b",
   "metadata": {
    "tags": []
   },
   "outputs": [
    {
     "name": "stdout",
     "output_type": "stream",
     "text": [
      "    inflating: data_011048.csv\n",
      "    inflating: footnotes_011048.htm\n",
      "    inflating: General_Information.pdf\n",
      "\n",
      "successfully unzipped envirodata.zip to current directory\n",
      "total processed:  3\n",
      "        skipped:  0\n",
      "      extracted:  3\n"
     ]
    }
   ],
   "source": [
    "unzipfile envirodata.zip"
   ]
  },
  {
   "cell_type": "code",
   "execution_count": 77,
   "id": "a9908bed-45d1-44f1-91e0-dde753758062",
   "metadata": {
    "tags": []
   },
   "outputs": [
    {
     "name": "stdout",
     "output_type": "stream",
     "text": [
      "(9 vars, 580 obs)\n"
     ]
    }
   ],
   "source": [
    "//realized that every time i unzip the csv filename changes to a different name. is there a work around?\n",
    "//using the .csv initially created\n",
    "insheet using data/data_134614.csv, clear comma"
   ]
  },
  {
   "cell_type": "code",
   "execution_count": 22,
   "id": "ccb44604-5e27-48ef-9095-ba9a12b3b2fb",
   "metadata": {
    "tags": []
   },
   "outputs": [
    {
     "data": {
      "text/html": [
       "<div>\n",
       "<style scoped>\n",
       "    .dataframe tbody tr th:only-of-type {\n",
       "        vertical-align: middle;\n",
       "    }\n",
       "\n",
       "    .dataframe tbody tr th {\n",
       "        vertical-align: top;\n",
       "    }\n",
       "\n",
       "    .dataframe thead th {\n",
       "        text-align: right;\n",
       "    }\n",
       "</style>\n",
       "<table border=\"1\" class=\"dataframe\">\n",
       "  <thead>\n",
       "    <tr style=\"text-align: right;\">\n",
       "      <th></th>\n",
       "      <th>statefips</th>\n",
       "      <th>state</th>\n",
       "      <th>countyfips</th>\n",
       "      <th>county</th>\n",
       "      <th>year</th>\n",
       "      <th>value</th>\n",
       "      <th>datacomment</th>\n",
       "      <th>v8</th>\n",
       "      <th>gender</th>\n",
       "    </tr>\n",
       "  </thead>\n",
       "  <tbody>\n",
       "    <tr>\n",
       "      <th>1</th>\n",
       "      <td>6</td>\n",
       "      <td>California</td>\n",
       "      <td>6001</td>\n",
       "      <td>Alameda</td>\n",
       "      <td>2016</td>\n",
       "      <td>4.3</td>\n",
       "      <td>.</td>\n",
       "      <td>.</td>\n",
       "      <td>Male</td>\n",
       "    </tr>\n",
       "    <tr>\n",
       "      <th>2</th>\n",
       "      <td>6</td>\n",
       "      <td>California</td>\n",
       "      <td>6001</td>\n",
       "      <td>Alameda</td>\n",
       "      <td>2016</td>\n",
       "      <td>4.8</td>\n",
       "      <td>.</td>\n",
       "      <td>.</td>\n",
       "      <td>Female</td>\n",
       "    </tr>\n",
       "    <tr>\n",
       "      <th>3</th>\n",
       "      <td>6</td>\n",
       "      <td>California</td>\n",
       "      <td>6001</td>\n",
       "      <td>Alameda</td>\n",
       "      <td>2017</td>\n",
       "      <td>4.4</td>\n",
       "      <td>.</td>\n",
       "      <td>.</td>\n",
       "      <td>Male</td>\n",
       "    </tr>\n",
       "    <tr>\n",
       "      <th>4</th>\n",
       "      <td>6</td>\n",
       "      <td>California</td>\n",
       "      <td>6001</td>\n",
       "      <td>Alameda</td>\n",
       "      <td>2017</td>\n",
       "      <td>4.9</td>\n",
       "      <td>.</td>\n",
       "      <td>.</td>\n",
       "      <td>Female</td>\n",
       "    </tr>\n",
       "    <tr>\n",
       "      <th>5</th>\n",
       "      <td>6</td>\n",
       "      <td>California</td>\n",
       "      <td>6001</td>\n",
       "      <td>Alameda</td>\n",
       "      <td>2018</td>\n",
       "      <td>3.6</td>\n",
       "      <td>.</td>\n",
       "      <td>.</td>\n",
       "      <td>Male</td>\n",
       "    </tr>\n",
       "  </tbody>\n",
       "</table>\n",
       "</div>"
      ]
     },
     "metadata": {},
     "output_type": "display_data"
    }
   ],
   "source": [
    "%head"
   ]
  },
  {
   "cell_type": "code",
   "execution_count": 78,
   "id": "d12b2eaa-c42a-48c5-86fa-b3f921dbc395",
   "metadata": {
    "tags": []
   },
   "outputs": [],
   "source": [
    "// Keeping only variables I need (value and datacomment are empty/full of missing observations)\n",
    "keep countyfips county year value gender"
   ]
  },
  {
   "cell_type": "code",
   "execution_count": 79,
   "id": "7f254aa9-3aa1-4b01-ba39-71e88f6fd384",
   "metadata": {
    "tags": []
   },
   "outputs": [],
   "source": [
    "//order pulls those specified variables to the front\n",
    "//sort is going to list the observastions alphabetically/numerically\n",
    "order countyfips year\n",
    "sort  countyfips year"
   ]
  },
  {
   "cell_type": "code",
   "execution_count": 80,
   "id": "14582e2c-c86d-4482-9fd3-d83e01d7e26c",
   "metadata": {
    "tags": []
   },
   "outputs": [],
   "source": [
    "rename value hospital_10k"
   ]
  },
  {
   "cell_type": "code",
   "execution_count": 81,
   "id": "fcce0281-4c11-4618-95bf-940a6556429d",
   "metadata": {
    "tags": []
   },
   "outputs": [
    {
     "name": "stdout",
     "output_type": "stream",
     "text": [
      "\n",
      "       Year |      Freq.     Percent        Cum.\n",
      "------------+-----------------------------------\n",
      "       2016 |        116       20.00       20.00\n",
      "       2017 |        116       20.00       40.00\n",
      "       2018 |        116       20.00       60.00\n",
      "       2019 |        116       20.00       80.00\n",
      "       2020 |        116       20.00      100.00\n",
      "------------+-----------------------------------\n",
      "      Total |        580      100.00\n"
     ]
    }
   ],
   "source": [
    "tab year"
   ]
  },
  {
   "cell_type": "code",
   "execution_count": 82,
   "id": "4f43fda7-224c-4b70-9165-ae65402e8ffb",
   "metadata": {
    "tags": []
   },
   "outputs": [
    {
     "data": {
      "text/html": [
       "<div>\n",
       "<style scoped>\n",
       "    .dataframe tbody tr th:only-of-type {\n",
       "        vertical-align: middle;\n",
       "    }\n",
       "\n",
       "    .dataframe tbody tr th {\n",
       "        vertical-align: top;\n",
       "    }\n",
       "\n",
       "    .dataframe thead th {\n",
       "        text-align: right;\n",
       "    }\n",
       "</style>\n",
       "<table border=\"1\" class=\"dataframe\">\n",
       "  <thead>\n",
       "    <tr style=\"text-align: right;\">\n",
       "      <th></th>\n",
       "      <th>countyfips</th>\n",
       "      <th>year</th>\n",
       "      <th>county</th>\n",
       "      <th>hospital_10k</th>\n",
       "      <th>gender</th>\n",
       "    </tr>\n",
       "  </thead>\n",
       "  <tbody>\n",
       "    <tr>\n",
       "      <th>1</th>\n",
       "      <td>6001</td>\n",
       "      <td>2016</td>\n",
       "      <td>Alameda</td>\n",
       "      <td>4.3</td>\n",
       "      <td>Male</td>\n",
       "    </tr>\n",
       "    <tr>\n",
       "      <th>2</th>\n",
       "      <td>6001</td>\n",
       "      <td>2016</td>\n",
       "      <td>Alameda</td>\n",
       "      <td>4.8</td>\n",
       "      <td>Female</td>\n",
       "    </tr>\n",
       "    <tr>\n",
       "      <th>3</th>\n",
       "      <td>6001</td>\n",
       "      <td>2017</td>\n",
       "      <td>Alameda</td>\n",
       "      <td>4.4</td>\n",
       "      <td>Male</td>\n",
       "    </tr>\n",
       "    <tr>\n",
       "      <th>4</th>\n",
       "      <td>6001</td>\n",
       "      <td>2017</td>\n",
       "      <td>Alameda</td>\n",
       "      <td>4.9</td>\n",
       "      <td>Female</td>\n",
       "    </tr>\n",
       "    <tr>\n",
       "      <th>5</th>\n",
       "      <td>6001</td>\n",
       "      <td>2018</td>\n",
       "      <td>Alameda</td>\n",
       "      <td>3.6</td>\n",
       "      <td>Male</td>\n",
       "    </tr>\n",
       "  </tbody>\n",
       "</table>\n",
       "</div>"
      ]
     },
     "metadata": {},
     "output_type": "display_data"
    }
   ],
   "source": [
    "%head"
   ]
  },
  {
   "cell_type": "code",
   "execution_count": 83,
   "id": "d2608779-9d24-45cc-b18c-d4e801f4992c",
   "metadata": {},
   "outputs": [],
   "source": [
    "//NOTE: 2 values per year per county is for male/female asthma rates."
   ]
  },
  {
   "cell_type": "code",
   "execution_count": 84,
   "id": "8ea452c5-a122-42c9-9df2-7e7676c19383",
   "metadata": {
    "tags": []
   },
   "outputs": [],
   "source": [
    "//destring code for other datasets that need it:\n",
    "*destring year, replace\n",
    "*destring countyfips, replace"
   ]
  },
  {
   "cell_type": "code",
   "execution_count": 85,
   "id": "05f78c5f-f4f2-4733-b557-8d4416235965",
   "metadata": {
    "tags": []
   },
   "outputs": [],
   "source": [
    "// Changing gender from string into categorical variable named \"sex\"\n",
    "// So now instead of female and male it's numerical response categories (so we can see which number is associated with each label)\n",
    "encode gender, gen(sex)"
   ]
  },
  {
   "cell_type": "code",
   "execution_count": 86,
   "id": "474408e9-16f7-47bd-bcd1-d2d63ecefc64",
   "metadata": {
    "tags": []
   },
   "outputs": [
    {
     "name": "stdout",
     "output_type": "stream",
     "text": [
      "\n",
      "           |        Gender\n",
      "    Gender |    Female       Male |     Total\n",
      "-----------+----------------------+----------\n",
      "    Female |       290          0 |       290 \n",
      "      Male |         0        290 |       290 \n",
      "-----------+----------------------+----------\n",
      "     Total |       290        290 |       580 \n",
      "\n",
      "     Gender |      Freq.     Percent        Cum.\n",
      "------------+-----------------------------------\n",
      "          1 |        290       50.00       50.00\n",
      "          2 |        290       50.00      100.00\n",
      "------------+-----------------------------------\n",
      "      Total |        580      100.00\n"
     ]
    }
   ],
   "source": [
    "// Checking encode command\n",
    "\n",
    "tab sex gender\n",
    "tab sex, nol"
   ]
  },
  {
   "cell_type": "code",
   "execution_count": 87,
   "id": "f563d8dd-6d27-4877-8058-f83f6e63f8ec",
   "metadata": {
    "tags": []
   },
   "outputs": [],
   "source": [
    "// Dropping the string variable for gender\n",
    "\n",
    "drop sex"
   ]
  },
  {
   "cell_type": "code",
   "execution_count": 88,
   "id": "67a5a1a8-0472-4340-8b82-933b8b50c4e7",
   "metadata": {
    "tags": []
   },
   "outputs": [
    {
     "name": "stdout",
     "output_type": "stream",
     "text": [
      "(j = Female Male)\n",
      "\n",
      "Data                               Long   ->   Wide\n",
      "-----------------------------------------------------------------------------\n",
      "Number of observations              580   ->   290         \n",
      "Number of variables                   5   ->   5           \n",
      "j variable (2 values)            gender   ->   (dropped)\n",
      "xij variables:\n",
      "                           hospital_10k   ->   hospital_10kFemale hospital_10kM\n",
      "> ale\n",
      "-----------------------------------------------------------------------------\n"
     ]
    }
   ],
   "source": [
    "// Reshaping from long to wide data format:\n",
    "// Changing the format of how it looks if I were to pull it up in excel. This is done because otherwise it reads as a duplicate ///\n",
    "// The original format had 2 observations for the same year and county by sex. Now there's only one observation for the county///\n",
    "// for a certain year that has a female and a male rate for asthma hospitalizations. \n",
    "\n",
    "reshape wide hospital_10k, i(countyfips year) j(gender) string"
   ]
  },
  {
   "cell_type": "code",
   "execution_count": 89,
   "id": "a374da7f-ac97-4cc5-b1bf-f168c5a985d8",
   "metadata": {
    "tags": []
   },
   "outputs": [
    {
     "data": {
      "text/html": [
       "<div>\n",
       "<style scoped>\n",
       "    .dataframe tbody tr th:only-of-type {\n",
       "        vertical-align: middle;\n",
       "    }\n",
       "\n",
       "    .dataframe tbody tr th {\n",
       "        vertical-align: top;\n",
       "    }\n",
       "\n",
       "    .dataframe thead th {\n",
       "        text-align: right;\n",
       "    }\n",
       "</style>\n",
       "<table border=\"1\" class=\"dataframe\">\n",
       "  <thead>\n",
       "    <tr style=\"text-align: right;\">\n",
       "      <th></th>\n",
       "      <th>countyfips</th>\n",
       "      <th>year</th>\n",
       "      <th>hospital_10kFemale</th>\n",
       "      <th>hospital_10kMale</th>\n",
       "      <th>county</th>\n",
       "    </tr>\n",
       "  </thead>\n",
       "  <tbody>\n",
       "    <tr>\n",
       "      <th>1</th>\n",
       "      <td>6001</td>\n",
       "      <td>2016</td>\n",
       "      <td>4.8</td>\n",
       "      <td>4.3</td>\n",
       "      <td>Alameda</td>\n",
       "    </tr>\n",
       "    <tr>\n",
       "      <th>2</th>\n",
       "      <td>6001</td>\n",
       "      <td>2017</td>\n",
       "      <td>4.9</td>\n",
       "      <td>4.4</td>\n",
       "      <td>Alameda</td>\n",
       "    </tr>\n",
       "    <tr>\n",
       "      <th>3</th>\n",
       "      <td>6001</td>\n",
       "      <td>2018</td>\n",
       "      <td>4.2</td>\n",
       "      <td>3.6</td>\n",
       "      <td>Alameda</td>\n",
       "    </tr>\n",
       "    <tr>\n",
       "      <th>4</th>\n",
       "      <td>6001</td>\n",
       "      <td>2019</td>\n",
       "      <td>4.5</td>\n",
       "      <td>3.9</td>\n",
       "      <td>Alameda</td>\n",
       "    </tr>\n",
       "    <tr>\n",
       "      <th>5</th>\n",
       "      <td>6001</td>\n",
       "      <td>2020</td>\n",
       "      <td>2.2</td>\n",
       "      <td>1.6</td>\n",
       "      <td>Alameda</td>\n",
       "    </tr>\n",
       "  </tbody>\n",
       "</table>\n",
       "</div>"
      ]
     },
     "metadata": {},
     "output_type": "display_data"
    }
   ],
   "source": [
    "%head"
   ]
  },
  {
   "cell_type": "code",
   "execution_count": 90,
   "id": "8976e646-ee94-45a4-91eb-d6aa5b0c3b9b",
   "metadata": {
    "tags": []
   },
   "outputs": [],
   "source": [
    "// Checking for duplicates\n",
    "\n",
    "quietly by countyfips year: gen dup= cond(_N==1,0,_n)"
   ]
  },
  {
   "cell_type": "code",
   "execution_count": 91,
   "id": "925a6efb-1e38-4a3e-a4d2-7a1d620a8e80",
   "metadata": {
    "tags": []
   },
   "outputs": [
    {
     "name": "stdout",
     "output_type": "stream",
     "text": [
      "countyfips    hospita~male  county\n",
      "year          hospita~Male  dup\n"
     ]
    }
   ],
   "source": [
    "ds "
   ]
  },
  {
   "cell_type": "code",
   "execution_count": 92,
   "id": "f1175f3b-2e22-4c80-8211-344a70e09b2a",
   "metadata": {
    "tags": []
   },
   "outputs": [
    {
     "name": "stdout",
     "output_type": "stream",
     "text": [
      "file data/asthma.dta saved\n"
     ]
    }
   ],
   "source": [
    "save data/asthma.dta, replace"
   ]
  },
  {
   "cell_type": "code",
   "execution_count": 39,
   "id": "c8ff231a-263b-44f5-81b2-d6128078ca38",
   "metadata": {
    "tags": []
   },
   "outputs": [
    {
     "name": "stdout",
     "output_type": "stream",
     "text": [
      "(encoding automatically selected: ISO-8859-1)\n",
      "(9 vars, 2,030 obs)\n"
     ]
    }
   ],
   "source": [
    "//Setting up Data: Upload\n",
    "// CDC ACS Census Data: Racial demographics of CA by county\n",
    "import delimited using \"data/CENSUS Data- Race/Census_ACS_Race.csv\" , clear"
   ]
  },
  {
   "cell_type": "code",
   "execution_count": 93,
   "id": "92c6e5e1-32f9-44bb-8a13-6c6f599f319a",
   "metadata": {
    "tags": []
   },
   "outputs": [
    {
     "name": "stdout",
     "output_type": "stream",
     "text": [
      "\n"
     ]
    },
    {
     "name": "stderr",
     "output_type": "stream",
     "text": [
      "  % Total    % Received % Xferd  Average Speed   Time    Time     Time  Current\n",
      "                                 Dload  Upload   Total   Spent    Left  Speed\n",
      "100  382k  100  382k  100   168   248k    109  0:00:01  0:00:01 --:--:--  248k\n"
     ]
    }
   ],
   "source": [
    "!curl 'https://ephtracking.cdc.gov/DataExplorer/getDataExport/645/13/0/0/false/:_:apigateway:_:api:_:v1:_:getCoreHolder:_:645:_:13:_:1:_:6:_:1:_:2020,2019,2018,2017,2016:_:0:_:0:-:RaceEthnicityId=2,3,4,5,6,7,8?RaceEthnicityId=2,3,4,5,6,7,8' ///\n",
    "  -H 'Content-Type: application/json' ///\n",
    "  --data-raw '{\"geographicTypeIdFilter\":\"1\",\"geographicItemsFilter\":\"6\",\"temporalTypeIdFilter\":null,\"temporalItemsFilter\":\"2020,2019,2018,2017,2016\",\"embedId\":\"\",\"embedParentUrl\":\"\"}' ///\n",
    "    > census.zip"
   ]
  },
  {
   "cell_type": "code",
   "execution_count": 94,
   "id": "3559393e-af0e-4032-836e-6ded485b9eda",
   "metadata": {
    "tags": []
   },
   "outputs": [
    {
     "name": "stdout",
     "output_type": "stream",
     "text": [
      "    inflating: data_011224.csv\n",
      "    inflating: footnotes_011224.htm\n",
      "    can't overwrite \"General_Information.pdf\"; skipping\n",
      "\n",
      "successfully unzipped census.zip to current directory\n",
      "total processed:  3\n",
      "        skipped:  1\n",
      "      extracted:  2\n"
     ]
    }
   ],
   "source": [
    "unzipfile census.zip"
   ]
  },
  {
   "cell_type": "code",
   "execution_count": 95,
   "id": "ae610413-466b-4b77-988b-ec48e701a675",
   "metadata": {
    "tags": []
   },
   "outputs": [
    {
     "name": "stdout",
     "output_type": "stream",
     "text": [
      "(9 vars, 2,030 obs)\n"
     ]
    }
   ],
   "source": [
    "insheet using data/data_135343.csv, clear comma"
   ]
  },
  {
   "cell_type": "code",
   "execution_count": 96,
   "id": "76b4b16b-e229-4eec-ab27-75d1546eded8",
   "metadata": {
    "tags": []
   },
   "outputs": [
    {
     "data": {
      "text/html": [
       "<div>\n",
       "<style scoped>\n",
       "    .dataframe tbody tr th:only-of-type {\n",
       "        vertical-align: middle;\n",
       "    }\n",
       "\n",
       "    .dataframe tbody tr th {\n",
       "        vertical-align: top;\n",
       "    }\n",
       "\n",
       "    .dataframe thead th {\n",
       "        text-align: right;\n",
       "    }\n",
       "</style>\n",
       "<table border=\"1\" class=\"dataframe\">\n",
       "  <thead>\n",
       "    <tr style=\"text-align: right;\">\n",
       "      <th></th>\n",
       "      <th>statefips</th>\n",
       "      <th>state</th>\n",
       "      <th>countyfips</th>\n",
       "      <th>county</th>\n",
       "      <th>year</th>\n",
       "      <th>value</th>\n",
       "      <th>datacomment</th>\n",
       "      <th>v8</th>\n",
       "      <th>raceethnicity</th>\n",
       "    </tr>\n",
       "  </thead>\n",
       "  <tbody>\n",
       "    <tr>\n",
       "      <th>1</th>\n",
       "      <td>6</td>\n",
       "      <td>California</td>\n",
       "      <td>6001</td>\n",
       "      <td>Alameda</td>\n",
       "      <td>2016</td>\n",
       "      <td>50.5%</td>\n",
       "      <td>.</td>\n",
       "      <td>.</td>\n",
       "      <td>White including Hispanic</td>\n",
       "    </tr>\n",
       "    <tr>\n",
       "      <th>2</th>\n",
       "      <td>6</td>\n",
       "      <td>California</td>\n",
       "      <td>6001</td>\n",
       "      <td>Alameda</td>\n",
       "      <td>2016</td>\n",
       "      <td>11.5%</td>\n",
       "      <td>.</td>\n",
       "      <td>.</td>\n",
       "      <td>Black including Hispanic</td>\n",
       "    </tr>\n",
       "    <tr>\n",
       "      <th>3</th>\n",
       "      <td>6</td>\n",
       "      <td>California</td>\n",
       "      <td>6001</td>\n",
       "      <td>Alameda</td>\n",
       "      <td>2016</td>\n",
       "      <td>5.4%</td>\n",
       "      <td>.</td>\n",
       "      <td>.</td>\n",
       "      <td>Other including Hispanic</td>\n",
       "    </tr>\n",
       "    <tr>\n",
       "      <th>4</th>\n",
       "      <td>6</td>\n",
       "      <td>California</td>\n",
       "      <td>6001</td>\n",
       "      <td>Alameda</td>\n",
       "      <td>2016</td>\n",
       "      <td>31.5%</td>\n",
       "      <td>.</td>\n",
       "      <td>.</td>\n",
       "      <td>Asian/Pacific Islander including Hispanic</td>\n",
       "    </tr>\n",
       "    <tr>\n",
       "      <th>5</th>\n",
       "      <td>6</td>\n",
       "      <td>California</td>\n",
       "      <td>6001</td>\n",
       "      <td>Alameda</td>\n",
       "      <td>2016</td>\n",
       "      <td>1.1%</td>\n",
       "      <td>.</td>\n",
       "      <td>.</td>\n",
       "      <td>American Indian/Alaskan Native including Hispanic</td>\n",
       "    </tr>\n",
       "  </tbody>\n",
       "</table>\n",
       "</div>"
      ]
     },
     "metadata": {},
     "output_type": "display_data"
    }
   ],
   "source": [
    "%head"
   ]
  },
  {
   "cell_type": "code",
   "execution_count": 97,
   "id": "0a86cac4-1265-4f7c-ad9b-c58bb8d8712b",
   "metadata": {
    "tags": []
   },
   "outputs": [
    {
     "name": "stdout",
     "output_type": "stream",
     "text": [
      "statefips     countyfips    year          datacomment   raceethnic~y\n",
      "state         county        value         v8\n"
     ]
    }
   ],
   "source": [
    "ds"
   ]
  },
  {
   "cell_type": "code",
   "execution_count": 98,
   "id": "1726c1a6-6192-4f64-8175-2c13de1d2723",
   "metadata": {
    "tags": []
   },
   "outputs": [],
   "source": [
    "keep countyfips year raceethnicity value"
   ]
  },
  {
   "cell_type": "code",
   "execution_count": 99,
   "id": "cf8089f5-8cec-4522-8894-2535fc72f781",
   "metadata": {
    "tags": []
   },
   "outputs": [],
   "source": [
    "// Turning raceethnicity from string into a numeric variable \"race\"\n",
    "\n",
    "encode raceethnicity, generate(race)"
   ]
  },
  {
   "cell_type": "code",
   "execution_count": 100,
   "id": "51fa57b5-2822-42fc-9491-0f7621368bd4",
   "metadata": {
    "tags": []
   },
   "outputs": [],
   "source": [
    "drop raceethnicity"
   ]
  },
  {
   "cell_type": "code",
   "execution_count": 101,
   "id": "29e728c5-a54a-4b1a-bc7c-bca76debd0d3",
   "metadata": {
    "tags": []
   },
   "outputs": [
    {
     "name": "stdout",
     "output_type": "stream",
     "text": [
      "\n",
      "                         Race Ethnicity |      Freq.     Percent        Cum.\n",
      "----------------------------------------+-----------------------------------\n",
      " All Non-White Races including Hispanic |        290       14.29       14.29\n",
      "American Indian/Alaskan Native includin |        290       14.29       28.57\n",
      "Asian/Pacific Islander including Hispan |        290       14.29       42.86\n",
      "               Black including Hispanic |        290       14.29       57.14\n",
      "                     Hispanic All Races |        290       14.29       71.43\n",
      "               Other including Hispanic |        290       14.29       85.71\n",
      "               White including Hispanic |        290       14.29      100.00\n",
      "----------------------------------------+-----------------------------------\n",
      "                                  Total |      2,030      100.00\n",
      "\n",
      "       Race |\n",
      "  Ethnicity |      Freq.     Percent        Cum.\n",
      "------------+-----------------------------------\n",
      "          1 |        290       14.29       14.29\n",
      "          2 |        290       14.29       28.57\n",
      "          3 |        290       14.29       42.86\n",
      "          4 |        290       14.29       57.14\n",
      "          5 |        290       14.29       71.43\n",
      "          6 |        290       14.29       85.71\n",
      "          7 |        290       14.29      100.00\n",
      "------------+-----------------------------------\n",
      "      Total |      2,030      100.00\n"
     ]
    }
   ],
   "source": [
    "tab race\n",
    "tab race, nol"
   ]
  },
  {
   "cell_type": "code",
   "execution_count": 102,
   "id": "80c6ec96-560d-43ed-bfbe-7988cc299764",
   "metadata": {
    "tags": []
   },
   "outputs": [
    {
     "name": "stdout",
     "output_type": "stream",
     "text": [
      "(j = 1 2 3 4 5 6 7)\n",
      "\n",
      "Data                               Long   ->   Wide\n",
      "-----------------------------------------------------------------------------\n",
      "Number of observations            2,030   ->   290         \n",
      "Number of variables                   4   ->   9           \n",
      "j variable (7 values)              race   ->   (dropped)\n",
      "xij variables:\n",
      "                                  value   ->   value1 value2 ... value7\n",
      "-----------------------------------------------------------------------------\n"
     ]
    }
   ],
   "source": [
    "// Reshaping format of value variable based on race\n",
    "\n",
    "reshape wide value, i(countyfips year) j(race)"
   ]
  },
  {
   "cell_type": "code",
   "execution_count": 103,
   "id": "9752179a-ecbb-413f-a882-ebb8fa103e0f",
   "metadata": {
    "tags": []
   },
   "outputs": [
    {
     "data": {
      "text/html": [
       "<div>\n",
       "<style scoped>\n",
       "    .dataframe tbody tr th:only-of-type {\n",
       "        vertical-align: middle;\n",
       "    }\n",
       "\n",
       "    .dataframe tbody tr th {\n",
       "        vertical-align: top;\n",
       "    }\n",
       "\n",
       "    .dataframe thead th {\n",
       "        text-align: right;\n",
       "    }\n",
       "</style>\n",
       "<table border=\"1\" class=\"dataframe\">\n",
       "  <thead>\n",
       "    <tr style=\"text-align: right;\">\n",
       "      <th></th>\n",
       "      <th>countyfips</th>\n",
       "      <th>year</th>\n",
       "      <th>value1</th>\n",
       "      <th>value2</th>\n",
       "      <th>value3</th>\n",
       "      <th>value4</th>\n",
       "      <th>value5</th>\n",
       "      <th>value6</th>\n",
       "      <th>value7</th>\n",
       "    </tr>\n",
       "  </thead>\n",
       "  <tbody>\n",
       "    <tr>\n",
       "      <th>1</th>\n",
       "      <td>6001</td>\n",
       "      <td>2016</td>\n",
       "      <td>49.5%</td>\n",
       "      <td>1.1%</td>\n",
       "      <td>31.5%</td>\n",
       "      <td>11.5%</td>\n",
       "      <td>22.3%</td>\n",
       "      <td>5.4%</td>\n",
       "      <td>50.5%</td>\n",
       "    </tr>\n",
       "    <tr>\n",
       "      <th>2</th>\n",
       "      <td>6001</td>\n",
       "      <td>2017</td>\n",
       "      <td>50.1%</td>\n",
       "      <td>1.1%</td>\n",
       "      <td>32.2%</td>\n",
       "      <td>11.3%</td>\n",
       "      <td>22.3%</td>\n",
       "      <td>5.4%</td>\n",
       "      <td>49.9%</td>\n",
       "    </tr>\n",
       "    <tr>\n",
       "      <th>3</th>\n",
       "      <td>6001</td>\n",
       "      <td>2018</td>\n",
       "      <td>50.6%</td>\n",
       "      <td>1.1%</td>\n",
       "      <td>33.0%</td>\n",
       "      <td>11.1%</td>\n",
       "      <td>22.2%</td>\n",
       "      <td>5.5%</td>\n",
       "      <td>49.4%</td>\n",
       "    </tr>\n",
       "    <tr>\n",
       "      <th>4</th>\n",
       "      <td>6001</td>\n",
       "      <td>2019</td>\n",
       "      <td>51.1%</td>\n",
       "      <td>1.1%</td>\n",
       "      <td>33.6%</td>\n",
       "      <td>10.9%</td>\n",
       "      <td>22.2%</td>\n",
       "      <td>5.5%</td>\n",
       "      <td>48.9%</td>\n",
       "    </tr>\n",
       "    <tr>\n",
       "      <th>5</th>\n",
       "      <td>6001</td>\n",
       "      <td>2020</td>\n",
       "      <td>51.5%</td>\n",
       "      <td>1.1%</td>\n",
       "      <td>34.0%</td>\n",
       "      <td>10.8%</td>\n",
       "      <td>22.4%</td>\n",
       "      <td>5.6%</td>\n",
       "      <td>48.5%</td>\n",
       "    </tr>\n",
       "  </tbody>\n",
       "</table>\n",
       "</div>"
      ]
     },
     "metadata": {},
     "output_type": "display_data"
    }
   ],
   "source": [
    "%head"
   ]
  },
  {
   "cell_type": "code",
   "execution_count": 104,
   "id": "acdca64a-0b61-45fe-824f-da1c05344f1e",
   "metadata": {
    "tags": []
   },
   "outputs": [],
   "source": [
    "// Renaming all race categories\n",
    "\n",
    "rename value2 native\n",
    "label var native \"American Indian/Alaskan Native including Hispanic\"\n",
    "rename value3 api\n",
    "label var api \"Asian/Pacific Islander including Hispanic\"\n",
    "rename value4 black\n",
    "label var black \"Black including Hispanic\"\n",
    "rename value5 hispanic\n",
    "label var hispanic \"Hispanic All Races\"\n",
    "rename value6 otherhispanic\n",
    "label var otherhispanic\"Other Race, Hispanic\"\n",
    "rename value7 white\n",
    "label var white \"white including Hispanic\"\n",
    "rename value1 nonwhite\n",
    "label var nonwhite \"All Non-White Races including Hispanic\""
   ]
  },
  {
   "cell_type": "code",
   "execution_count": 105,
   "id": "5b742bd7-12e3-4f0b-b0b1-797ef9d99371",
   "metadata": {
    "tags": []
   },
   "outputs": [
    {
     "data": {
      "text/html": [
       "<div>\n",
       "<style scoped>\n",
       "    .dataframe tbody tr th:only-of-type {\n",
       "        vertical-align: middle;\n",
       "    }\n",
       "\n",
       "    .dataframe tbody tr th {\n",
       "        vertical-align: top;\n",
       "    }\n",
       "\n",
       "    .dataframe thead th {\n",
       "        text-align: right;\n",
       "    }\n",
       "</style>\n",
       "<table border=\"1\" class=\"dataframe\">\n",
       "  <thead>\n",
       "    <tr style=\"text-align: right;\">\n",
       "      <th></th>\n",
       "      <th>countyfips</th>\n",
       "      <th>year</th>\n",
       "      <th>nonwhite</th>\n",
       "      <th>native</th>\n",
       "      <th>api</th>\n",
       "      <th>black</th>\n",
       "      <th>hispanic</th>\n",
       "      <th>otherhispanic</th>\n",
       "      <th>white</th>\n",
       "    </tr>\n",
       "  </thead>\n",
       "  <tbody>\n",
       "    <tr>\n",
       "      <th>1</th>\n",
       "      <td>6001</td>\n",
       "      <td>2016</td>\n",
       "      <td>49.5%</td>\n",
       "      <td>1.1%</td>\n",
       "      <td>31.5%</td>\n",
       "      <td>11.5%</td>\n",
       "      <td>22.3%</td>\n",
       "      <td>5.4%</td>\n",
       "      <td>50.5%</td>\n",
       "    </tr>\n",
       "    <tr>\n",
       "      <th>2</th>\n",
       "      <td>6001</td>\n",
       "      <td>2017</td>\n",
       "      <td>50.1%</td>\n",
       "      <td>1.1%</td>\n",
       "      <td>32.2%</td>\n",
       "      <td>11.3%</td>\n",
       "      <td>22.3%</td>\n",
       "      <td>5.4%</td>\n",
       "      <td>49.9%</td>\n",
       "    </tr>\n",
       "    <tr>\n",
       "      <th>3</th>\n",
       "      <td>6001</td>\n",
       "      <td>2018</td>\n",
       "      <td>50.6%</td>\n",
       "      <td>1.1%</td>\n",
       "      <td>33.0%</td>\n",
       "      <td>11.1%</td>\n",
       "      <td>22.2%</td>\n",
       "      <td>5.5%</td>\n",
       "      <td>49.4%</td>\n",
       "    </tr>\n",
       "    <tr>\n",
       "      <th>4</th>\n",
       "      <td>6001</td>\n",
       "      <td>2019</td>\n",
       "      <td>51.1%</td>\n",
       "      <td>1.1%</td>\n",
       "      <td>33.6%</td>\n",
       "      <td>10.9%</td>\n",
       "      <td>22.2%</td>\n",
       "      <td>5.5%</td>\n",
       "      <td>48.9%</td>\n",
       "    </tr>\n",
       "    <tr>\n",
       "      <th>5</th>\n",
       "      <td>6001</td>\n",
       "      <td>2020</td>\n",
       "      <td>51.5%</td>\n",
       "      <td>1.1%</td>\n",
       "      <td>34.0%</td>\n",
       "      <td>10.8%</td>\n",
       "      <td>22.4%</td>\n",
       "      <td>5.6%</td>\n",
       "      <td>48.5%</td>\n",
       "    </tr>\n",
       "  </tbody>\n",
       "</table>\n",
       "</div>"
      ]
     },
     "metadata": {},
     "output_type": "display_data"
    }
   ],
   "source": [
    "%head"
   ]
  },
  {
   "cell_type": "code",
   "execution_count": 106,
   "id": "8a7cab26-f90e-4bb6-8d72-72b46971b38a",
   "metadata": {
    "tags": []
   },
   "outputs": [],
   "source": [
    "order countyfips year\n",
    "sort countyfips year"
   ]
  },
  {
   "cell_type": "code",
   "execution_count": 107,
   "id": "018d6a91-6800-4012-87ed-759a1de55834",
   "metadata": {
    "tags": []
   },
   "outputs": [
    {
     "name": "stdout",
     "output_type": "stream",
     "text": [
      "nonwhite: character % removed; replaced as double\n",
      "native: character % removed; replaced as double\n",
      "api: character % removed; replaced as double\n",
      "black: character % removed; replaced as double\n",
      "hispanic: character % removed; replaced as double\n",
      "otherhispanic: character % removed; replaced as double\n",
      "white: character % removed; replaced as double\n"
     ]
    }
   ],
   "source": [
    "// Turning all the value variables from string into numeric variable. You can tell it's string variable because of the ///\n",
    "//percent sign (even though they're numbers, the % makes it a string)\n",
    "\n",
    "foreach x in nonwhite-white {\n",
    "destring `x', replace ignore(\"%\")\n",
    "}"
   ]
  },
  {
   "cell_type": "code",
   "execution_count": 108,
   "id": "701ae3bf-2653-473b-a691-f35bef890ad6",
   "metadata": {
    "tags": []
   },
   "outputs": [
    {
     "data": {
      "text/html": [
       "<div>\n",
       "<style scoped>\n",
       "    .dataframe tbody tr th:only-of-type {\n",
       "        vertical-align: middle;\n",
       "    }\n",
       "\n",
       "    .dataframe tbody tr th {\n",
       "        vertical-align: top;\n",
       "    }\n",
       "\n",
       "    .dataframe thead th {\n",
       "        text-align: right;\n",
       "    }\n",
       "</style>\n",
       "<table border=\"1\" class=\"dataframe\">\n",
       "  <thead>\n",
       "    <tr style=\"text-align: right;\">\n",
       "      <th></th>\n",
       "      <th>countyfips</th>\n",
       "      <th>year</th>\n",
       "      <th>nonwhite</th>\n",
       "      <th>native</th>\n",
       "      <th>api</th>\n",
       "      <th>black</th>\n",
       "      <th>hispanic</th>\n",
       "      <th>otherhispanic</th>\n",
       "      <th>white</th>\n",
       "    </tr>\n",
       "  </thead>\n",
       "  <tbody>\n",
       "    <tr>\n",
       "      <th>1</th>\n",
       "      <td>6001</td>\n",
       "      <td>2016</td>\n",
       "      <td>49.5</td>\n",
       "      <td>1.1</td>\n",
       "      <td>31.5</td>\n",
       "      <td>11.5</td>\n",
       "      <td>22.3</td>\n",
       "      <td>5.4</td>\n",
       "      <td>50.5</td>\n",
       "    </tr>\n",
       "    <tr>\n",
       "      <th>2</th>\n",
       "      <td>6001</td>\n",
       "      <td>2017</td>\n",
       "      <td>50.1</td>\n",
       "      <td>1.1</td>\n",
       "      <td>32.2</td>\n",
       "      <td>11.3</td>\n",
       "      <td>22.3</td>\n",
       "      <td>5.4</td>\n",
       "      <td>49.9</td>\n",
       "    </tr>\n",
       "    <tr>\n",
       "      <th>3</th>\n",
       "      <td>6001</td>\n",
       "      <td>2018</td>\n",
       "      <td>50.6</td>\n",
       "      <td>1.1</td>\n",
       "      <td>33</td>\n",
       "      <td>11.1</td>\n",
       "      <td>22.2</td>\n",
       "      <td>5.5</td>\n",
       "      <td>49.4</td>\n",
       "    </tr>\n",
       "    <tr>\n",
       "      <th>4</th>\n",
       "      <td>6001</td>\n",
       "      <td>2019</td>\n",
       "      <td>51.1</td>\n",
       "      <td>1.1</td>\n",
       "      <td>33.6</td>\n",
       "      <td>10.9</td>\n",
       "      <td>22.2</td>\n",
       "      <td>5.5</td>\n",
       "      <td>48.9</td>\n",
       "    </tr>\n",
       "    <tr>\n",
       "      <th>5</th>\n",
       "      <td>6001</td>\n",
       "      <td>2020</td>\n",
       "      <td>51.5</td>\n",
       "      <td>1.1</td>\n",
       "      <td>34</td>\n",
       "      <td>10.8</td>\n",
       "      <td>22.4</td>\n",
       "      <td>5.6</td>\n",
       "      <td>48.5</td>\n",
       "    </tr>\n",
       "  </tbody>\n",
       "</table>\n",
       "</div>"
      ]
     },
     "metadata": {},
     "output_type": "display_data"
    }
   ],
   "source": [
    "%head"
   ]
  },
  {
   "cell_type": "code",
   "execution_count": 109,
   "id": "340569e4-165a-4792-ab70-0ad780781c5a",
   "metadata": {
    "tags": []
   },
   "outputs": [],
   "source": [
    "// Checking for duplicates\n",
    "\n",
    "quietly by countyfips year: gen dup= cond(_N==1,0,_n)"
   ]
  },
  {
   "cell_type": "code",
   "execution_count": 110,
   "id": "b749733d-1953-4258-9956-fa26fc338486",
   "metadata": {
    "tags": []
   },
   "outputs": [],
   "source": [
    "list if dup==1"
   ]
  },
  {
   "cell_type": "code",
   "execution_count": 111,
   "id": "1d3bb458-d6a7-4466-80ea-e737d50e8ba6",
   "metadata": {
    "tags": []
   },
   "outputs": [],
   "source": [
    "drop dup"
   ]
  },
  {
   "cell_type": "code",
   "execution_count": 112,
   "id": "d9802d06-a8e2-40b3-a20f-fd1bb8b8a977",
   "metadata": {
    "tags": []
   },
   "outputs": [
    {
     "name": "stdout",
     "output_type": "stream",
     "text": [
      "file data/race.dta saved\n"
     ]
    }
   ],
   "source": [
    "save data/race.dta, replace"
   ]
  },
  {
   "cell_type": "code",
   "execution_count": 114,
   "id": "f26e9c44-ac23-48ef-95ef-05311417b941",
   "metadata": {
    "tags": []
   },
   "outputs": [
    {
     "name": "stdout",
     "output_type": "stream",
     "text": [
      "\n",
      "    Result                      Number of obs\n",
      "    -----------------------------------------\n",
      "    Not matched                             0\n",
      "    Matched                               290  (_merge==3)\n",
      "    -----------------------------------------\n"
     ]
    }
   ],
   "source": [
    "//never do merge m:m!!!!!!\n",
    "//can do 1:m m:1 but never m:m\n",
    "merge 1:1 countyfips year using data/asthma.dta"
   ]
  },
  {
   "cell_type": "code",
   "execution_count": 115,
   "id": "1aa8e311-e306-4866-89fc-edcf6307adcb",
   "metadata": {
    "tags": []
   },
   "outputs": [],
   "source": [
    "drop _merge"
   ]
  },
  {
   "cell_type": "code",
   "execution_count": 116,
   "id": "866020fd-d31c-4844-bf20-6868870dd459",
   "metadata": {
    "tags": []
   },
   "outputs": [
    {
     "name": "stdout",
     "output_type": "stream",
     "text": [
      "file data/d_CDC_NEPH_asthma.dta saved\n"
     ]
    }
   ],
   "source": [
    "save data/d_CDC_NEPH_asthma.dta, replace "
   ]
  },
  {
   "cell_type": "code",
   "execution_count": null,
   "id": "d713aab5-a48f-42fa-af37-04b751cf164e",
   "metadata": {},
   "outputs": [],
   "source": []
  }
 ],
 "metadata": {
  "kernelspec": {
   "display_name": "Stata (nbstata)",
   "language": "stata",
   "name": "nbstata"
  },
  "language_info": {
   "file_extension": ".do",
   "mimetype": "text/x-stata",
   "name": "stata",
   "version": "17"
  }
 },
 "nbformat": 4,
 "nbformat_minor": 5
}
