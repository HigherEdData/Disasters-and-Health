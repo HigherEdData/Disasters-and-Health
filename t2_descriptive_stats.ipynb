{
 "cells": [
  {
   "cell_type": "markdown",
   "id": "50df08b8-6d56-48b1-a1b9-5f56fe5dd17d",
   "metadata": {},
   "source": [
    "# Table 2: Descriptive Statistics\n",
    "## CDC NEPH Asthma Hospitalization Rates\n",
    "\n",
    "Include a \"Table 2\" t2_descriptive_stats.ipynb Notebook that reports means and standard deviations for all of your covariates along with N sample sizes for your data. Use the stata table and collect export commands to output the descriptive stats within the notebook and in a word document."
   ]
  },
  {
   "cell_type": "code",
   "execution_count": 41,
   "id": "09870c36-8753-408d-87c5-8b894ac798eb",
   "metadata": {
    "tags": []
   },
   "outputs": [],
   "source": [
    "use data/d_CDC_NEPH_asthma.dta, clear"
   ]
  },
  {
   "cell_type": "code",
   "execution_count": 42,
   "id": "71443cad-eb1e-4d75-8950-6b4c3108a2ff",
   "metadata": {
    "tags": []
   },
   "outputs": [
    {
     "name": "stdout",
     "output_type": "stream",
     "text": [
      "countyfips    native        hispanic      hospita~male\n",
      "year          api           otherhispa~c  hospita~Male\n",
      "nonwhite      black         white         county\n"
     ]
    }
   ],
   "source": [
    "ds"
   ]
  },
  {
   "cell_type": "code",
   "execution_count": 43,
   "id": "c8e4c826-64b6-4226-b289-1f0594988494",
   "metadata": {
    "tags": []
   },
   "outputs": [],
   "source": [
    "*ssc install asdoc"
   ]
  },
  {
   "cell_type": "code",
   "execution_count": 44,
   "id": "2a21f871-4d7c-4f10-8d81-c58f77307f89",
   "metadata": {},
   "outputs": [
    {
     "name": "stdout",
     "output_type": "stream",
     "text": [
      "Click to Open File:  tables/t1_variable_descriptions.doc\n"
     ]
    }
   ],
   "source": [
    "asdoc des, replace title(Table 1: Variable Descriptions) ///\n",
    "    save(tables/t1_variable_descriptions)"
   ]
  },
  {
   "cell_type": "code",
   "execution_count": 45,
   "id": "8447a31f-f3ae-4f3a-a94f-38084a6db851",
   "metadata": {
    "tags": []
   },
   "outputs": [
    {
     "name": "stdout",
     "output_type": "stream",
     "text": [
      "countyfips    native        hispanic      hospita~male\n",
      "year          api           otherhispa~c  hospita~Male\n",
      "nonwhite      black         white         county\n"
     ]
    }
   ],
   "source": [
    "ds"
   ]
  },
  {
   "cell_type": "code",
   "execution_count": 46,
   "id": "1f3687b9-85cf-4f90-ba55-f0ea06dfdbd4",
   "metadata": {},
   "outputs": [
    {
     "name": "stdout",
     "output_type": "stream",
     "text": [
      "\n",
      "-------------------------------------------------------------------------------\n",
      "hospital_10kFemale                                          Female hospital_10k\n",
      "-------------------------------------------------------------------------------\n",
      "\n",
      "                  Type: Numeric (float)\n",
      "\n",
      "                 Range: [1.3,6.8]                     Units: .1\n",
      "         Unique values: 51                        Missing .: 0/290\n",
      "\n",
      "                  Mean: 4.23241\n",
      "             Std. dev.: 1.17346\n",
      "\n",
      "           Percentiles:     10%       25%       50%       75%       90%\n",
      "                            2.3       3.5       4.5       5.1       5.5\n"
     ]
    }
   ],
   "source": [
    "codebook hospital_10kFemale"
   ]
  },
  {
   "cell_type": "code",
   "execution_count": 47,
   "id": "7703a0e2-6702-4356-835e-1e74c7e6e1e2",
   "metadata": {
    "tags": []
   },
   "outputs": [],
   "source": [
    "label variable hospital_10kFemale \"Hospital Rate per 10,000 Population for Women\""
   ]
  },
  {
   "cell_type": "code",
   "execution_count": 48,
   "id": "5c327ef0-508a-4828-8f99-c30c405089ac",
   "metadata": {
    "tags": []
   },
   "outputs": [],
   "source": [
    "label variable hospital_10kMale \"Hospital Rate per 10,000 Population for Men\""
   ]
  },
  {
   "cell_type": "code",
   "execution_count": 49,
   "id": "5d9933a2-4e48-431b-a123-474256beeafc",
   "metadata": {},
   "outputs": [
    {
     "name": "stdout",
     "output_type": "stream",
     "text": [
      "\n",
      "Asthma Hospitalization Rates in California 2016-2020\n",
      "-----------------------------------------\n",
      "                       All county average\n",
      "                                         \n",
      "                                  mean/sd\n",
      "-----------------------------------------\n",
      "Hospital Rate per 10,000 Population for Women                 4.23\n",
      "                                   (1.17)\n",
      "Hospital Rate per 10,000 Population for Men                 3.65\n",
      "                                   (1.20)\n",
      "-----------------------------------------\n",
      "N                                     290\n",
      "-----------------------------------------\n"
     ]
    }
   ],
   "source": [
    "**Variable Descriptive Statistics tables:\n",
    "//Table 2. Asthma Hospitalization Rates in California 2016-2020\n",
    "\n",
    "eststo contractterm: quietly estpost summarize hospital_10k*\n",
    "\n",
    "esttab, cells(\"mean(fmt(%9.2fc))\" sd(par)) stats(N, fmt(%9.0fc)) label nodepvar nonumbers  mgroups(\"All county average\") mtitle(\" \") ///\n",
    "title(\"Asthma Hospitalization Rates in California 2016-2020\") noobs noabbrev modelwidth(20)"
   ]
  },
  {
   "cell_type": "code",
   "execution_count": 50,
   "id": "41c704f0-6eb0-460a-9b41-50c71570251f",
   "metadata": {
    "tags": []
   },
   "outputs": [
    {
     "name": "stdout",
     "output_type": "stream",
     "text": [
      "(output written to tables/t2_asthma.rtf)\n"
     ]
    }
   ],
   "source": [
    "//This code exports tables to an .rtf file to open in Word:\n",
    "esttab using tables/t2_asthma.rtf, cells(\"mean(fmt(2))\" \"sd(fmt(2))\") /// \n",
    "replace"
   ]
  },
  {
   "cell_type": "code",
   "execution_count": 51,
   "id": "b30ee82d-785f-4842-85e5-5191ca97c5a7",
   "metadata": {
    "tags": []
   },
   "outputs": [],
   "source": [
    "eststo clear"
   ]
  },
  {
   "cell_type": "code",
   "execution_count": 52,
   "id": "076f2b4b-bb43-4147-9da1-a54873a0b1d0",
   "metadata": {},
   "outputs": [
    {
     "name": "stdout",
     "output_type": "stream",
     "text": [
      "\n",
      "Racial Demographics in California 2016-2020\n",
      "-----------------------------------------\n",
      "                       All County Average\n",
      "                                         \n",
      "                                  mean/sd\n",
      "-----------------------------------------\n",
      "Asian/Pacific Islander including Hispanic                 8.42\n",
      "                                   (9.04)\n",
      "Black including Hispanic                 3.57\n",
      "                                   (3.18)\n",
      "Hispanic All Races                  30.95\n",
      "                                  (18.05)\n",
      "American Indian/Alaskan Native including Hispanic                 3.24\n",
      "                                   (3.48)\n",
      "All Non-White Races including Hispanic                19.32\n",
      "                                  (10.72)\n",
      "Other Race, Hispanic                 4.10\n",
      "                                   (1.06)\n",
      "white including Hispanic                80.68\n",
      "                                  (10.72)\n",
      "-----------------------------------------\n",
      "N                                     290\n",
      "-----------------------------------------\n"
     ]
    }
   ],
   "source": [
    "//Table 3: Racial Demographic Rates in California Counties 2016-2020 \n",
    "eststo contractterm: quietly estpost summarize api black hispanic native nonwhite otherhispanic white \n",
    "esttab, cells(\"mean(fmt(%9.2fc))\" sd(par)) stats(N, fmt(%9.0fc)) label nodepvar nonumbers  mgroups(\"All County Average\") mtitle(\" \") ///\n",
    "title(\"Racial Demographics in California 2016-2020\") noobs noabbrev modelwidth(20)"
   ]
  },
  {
   "cell_type": "code",
   "execution_count": 53,
   "id": "cd194279-bebd-4372-a707-18bb634dfd44",
   "metadata": {
    "tags": []
   },
   "outputs": [
    {
     "name": "stdout",
     "output_type": "stream",
     "text": [
      "(output written to tables/t3_racial_demographics.rtf)\n"
     ]
    }
   ],
   "source": [
    "//This code exports tables to an .rtf file to open in Word:\n",
    "esttab using tables/t3_racial_demographics.rtf, cells(\"mean(fmt(%9.2fc))\" sd(par)) stats(N, fmt(%9.0fc)) label nodepvar nonumbers  mgroups(\"All County Average\") mtitle(\" \") /// \n",
    "replace"
   ]
  }
 ],
 "metadata": {
  "kernelspec": {
   "display_name": "Stata (nbstata)",
   "language": "stata",
   "name": "nbstata"
  },
  "language_info": {
   "file_extension": ".do",
   "mimetype": "text/x-stata",
   "name": "stata",
   "version": "17"
  }
 },
 "nbformat": 4,
 "nbformat_minor": 5
}
