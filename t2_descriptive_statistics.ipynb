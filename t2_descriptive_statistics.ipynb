{
 "cells": [
  {
   "cell_type": "markdown",
   "id": "5500d2fa-d530-4e47-b834-edcde778cd5d",
   "metadata": {},
   "source": [
    "Include a \"Table 1\" t1_variable_definitions.ipynb Notebook that reports variable names and definitions (by writing variable defitions within Stata variable labels and then using the describe command to report all variable names and their labels in the notebook)"
   ]
  },
  {
   "cell_type": "code",
   "execution_count": 1,
   "id": "161d2f37-92e0-4741-aee9-2781dcb34951",
   "metadata": {
    "tags": []
   },
   "outputs": [
    {
     "data": {
      "text/html": [
       "<style>div.jp-Notebook .datagrid-container {min-height: 448px; }</style>"
      ],
      "text/plain": [
       "<IPython.core.display.HTML object>"
      ]
     },
     "metadata": {},
     "output_type": "display_data"
    }
   ],
   "source": [
    "use /Users/emilyernst/Desktop/Disasters-and-Health/data/d_CDC_NEPH_asthma.dta, clear"
   ]
  },
  {
   "cell_type": "code",
   "execution_count": 2,
   "id": "d019c8e4-8795-4fbd-ba4e-3709300bf65e",
   "metadata": {
    "tags": []
   },
   "outputs": [
    {
     "name": "stdout",
     "output_type": "stream",
     "text": [
      "countyfips    native        hispanic      hospit~emale\n",
      "year          api           otherhispa~c  hospit~_male\n",
      "nonwhite      black         white         county\n"
     ]
    }
   ],
   "source": [
    "ds"
   ]
  },
  {
   "cell_type": "code",
   "execution_count": 3,
   "id": "5fd77d94-d32f-4062-92a8-695b730c0402",
   "metadata": {
    "tags": []
   },
   "outputs": [
    {
     "name": "stdout",
     "output_type": "stream",
     "text": [
      "\n",
      "-------------------------------------------------------------------------------\n",
      "countyfips                                             Unique County Identifier\n",
      "-------------------------------------------------------------------------------\n",
      "\n",
      "                  Type: Numeric (int)\n",
      "\n",
      "                 Range: [6001,6115]                   Units: 1\n",
      "         Unique values: 58                        Missing .: 0/290\n",
      "\n",
      "                  Mean:    6058\n",
      "             Std. dev.: 33.5392\n",
      "\n",
      "           Percentiles:     10%       25%       50%       75%       90%\n",
      "                           6011      6029      6058      6087      6105\n"
     ]
    }
   ],
   "source": [
    "label var countyfips \"Unique County Identifier\"\n",
    "codebook countyfips"
   ]
  },
  {
   "cell_type": "code",
   "execution_count": 4,
   "id": "694ee0b5-84bf-4479-8787-efba8931fd06",
   "metadata": {
    "tags": []
   },
   "outputs": [
    {
     "name": "stdout",
     "output_type": "stream",
     "text": [
      "\n",
      "-------------------------------------------------------------------------------\n",
      "county                                                                   County\n",
      "-------------------------------------------------------------------------------\n",
      "\n",
      "                  Type: String (str15)\n",
      "\n",
      "         Unique values: 58                        Missing \"\": 0/290\n",
      "\n",
      "              Examples: \"Humboldt\"\n",
      "                        \"Merced\"\n",
      "                        \"San Benito\"\n",
      "                        \"Siskiyou\"\n",
      "\n",
      "               Warning: Variable has embedded blanks.\n"
     ]
    }
   ],
   "source": [
    "codebook county"
   ]
  },
  {
   "cell_type": "code",
   "execution_count": 5,
   "id": "a7ceb802-9033-455c-aec8-ea3c4ba47577",
   "metadata": {
    "tags": []
   },
   "outputs": [
    {
     "name": "stdout",
     "output_type": "stream",
     "text": [
      "\n",
      "-------------------------------------------------------------------------------\n",
      "year                                                                       Year\n",
      "-------------------------------------------------------------------------------\n",
      "\n",
      "                  Type: Numeric (int)\n",
      "\n",
      "                 Range: [2016,2020]                   Units: 1\n",
      "         Unique values: 5                         Missing .: 0/290\n",
      "\n",
      "            Tabulation: Freq.  Value\n",
      "                           58  2016\n",
      "                           58  2017\n",
      "                           58  2018\n",
      "                           58  2019\n",
      "                           58  2020\n"
     ]
    }
   ],
   "source": [
    "codebook year"
   ]
  },
  {
   "cell_type": "code",
   "execution_count": 7,
   "id": "337e0c73-bb95-4bc4-b74a-f456cfd9eeb2",
   "metadata": {
    "tags": []
   },
   "outputs": [],
   "source": [
    "label variable hospitals_per_10k_female \"Hospital Rate per 10,000 Population for Women\"\n",
    "label variable hospitals_per_10k_male \"Hospital Rate per 10,000 Population for Men\""
   ]
  },
  {
   "cell_type": "code",
   "execution_count": 8,
   "id": "6f96e5d9-07dd-48f5-8f6d-5acba56f3743",
   "metadata": {
    "tags": []
   },
   "outputs": [
    {
     "name": "stdout",
     "output_type": "stream",
     "text": [
      "\n",
      "-------------------------------------------------------------------------------\n",
      "hospitals_per_10k_female          Hospital Rate per 10,000 Population for Women\n",
      "-------------------------------------------------------------------------------\n",
      "\n",
      "                  Type: Numeric (float)\n",
      "\n",
      "                 Range: [1.3,6.8]                     Units: .1\n",
      "         Unique values: 51                        Missing .: 0/290\n",
      "\n",
      "                  Mean: 4.23241\n",
      "             Std. dev.: 1.17346\n",
      "\n",
      "           Percentiles:     10%       25%       50%       75%       90%\n",
      "                            2.3       3.5       4.5       5.1       5.5\n",
      "\n",
      "-------------------------------------------------------------------------------\n",
      "hospitals_per_10k_male              Hospital Rate per 10,000 Population for Men\n",
      "-------------------------------------------------------------------------------\n",
      "\n",
      "                  Type: Numeric (float)\n",
      "\n",
      "                 Range: [1.1,7.3]                     Units: .1\n",
      "         Unique values: 51                        Missing .: 0/290\n",
      "\n",
      "                  Mean: 3.64862\n",
      "             Std. dev.: 1.19706\n",
      "\n",
      "           Percentiles:     10%       25%       50%       75%       90%\n",
      "                            1.9       2.8       3.8       4.5         5\n",
      "\n",
      "-------------------------------------------------------------------------------\n",
      "native                        American Indian/Alaskan Native including Hispanic\n",
      "-------------------------------------------------------------------------------\n",
      "\n",
      "                  Type: Numeric (double)\n",
      "\n",
      "                 Range: [.7,26.1]                     Units: .1\n",
      "         Unique values: 57                        Missing .: 0/290\n",
      "\n",
      "                  Mean: 3.23621\n",
      "             Std. dev.: 3.47776\n",
      "\n",
      "           Percentiles:     10%       25%       50%       75%       90%\n",
      "                            1.1       1.5       2.4       3.2       5.2\n",
      "\n",
      "-------------------------------------------------------------------------------\n",
      "api                                   Asian/Pacific Islander including Hispanic\n",
      "-------------------------------------------------------------------------------\n",
      "\n",
      "                  Type: Numeric (double)\n",
      "\n",
      "                 Range: [.7,40.4]                     Units: .1\n",
      "         Unique values: 135                       Missing .: 0/290\n",
      "\n",
      "                  Mean: 8.41586\n",
      "             Std. dev.: 9.04054\n",
      "\n",
      "           Percentiles:     10%       25%       50%       75%       90%\n",
      "                            1.7       2.2       4.9       9.2      18.7\n",
      "\n",
      "-------------------------------------------------------------------------------\n",
      "black                                                  Black including Hispanic\n",
      "-------------------------------------------------------------------------------\n",
      "\n",
      "                  Type: Numeric (double)\n",
      "\n",
      "                 Range: [.1,14.9]                     Units: .1\n",
      "         Unique values: 65                        Missing .: 0/290\n",
      "\n",
      "                  Mean: 3.56966\n",
      "             Std. dev.: 3.17817\n",
      "\n",
      "           Percentiles:     10%       25%       50%       75%       90%\n",
      "                              1       1.3       2.4       4.4         9\n",
      "\n",
      "-------------------------------------------------------------------------------\n",
      "hispanic                                                     Hispanic All Races\n",
      "-------------------------------------------------------------------------------\n",
      "\n",
      "                  Type: Numeric (double)\n",
      "\n",
      "                 Range: [7.2,85.5]                    Units: .1\n",
      "         Unique values: 212                       Missing .: 0/290\n",
      "\n",
      "                  Mean:  30.949\n",
      "             Std. dev.: 18.0507\n",
      "\n",
      "           Percentiles:     10%       25%       50%       75%       90%\n",
      "                          11.75      15.1     25.95      45.6     58.75\n",
      "\n",
      "-------------------------------------------------------------------------------\n",
      "otherhispanic                                              Other Race, Hispanic\n",
      "-------------------------------------------------------------------------------\n",
      "\n",
      "                  Type: Numeric (double)\n",
      "\n",
      "                 Range: [1.6,7.4]                     Units: .1\n",
      "         Unique values: 47                        Missing .: 0/290\n",
      "\n",
      "                  Mean: 4.10138\n",
      "             Std. dev.: 1.05918\n",
      "\n",
      "           Percentiles:     10%       25%       50%       75%       90%\n",
      "                              3       3.5       3.9       4.7       5.5\n",
      "\n",
      "-------------------------------------------------------------------------------\n",
      "white                                                  white including Hispanic\n",
      "-------------------------------------------------------------------------------\n",
      "\n",
      "                  Type: Numeric (double)\n",
      "\n",
      "                 Range: [48.5,93.7]                   Units: .1\n",
      "         Unique values: 183                       Missing .: 0/290\n",
      "\n",
      "                  Mean: 80.6814\n",
      "             Std. dev.: 10.7238\n",
      "\n",
      "           Percentiles:     10%       25%       50%       75%       90%\n",
      "                           63.4      76.1     84.25      88.3      90.4\n",
      "\n",
      "-------------------------------------------------------------------------------\n",
      "nonwhite                                 All Non-White Races including Hispanic\n",
      "-------------------------------------------------------------------------------\n",
      "\n",
      "                  Type: Numeric (double)\n",
      "\n",
      "                 Range: [6.3,51.5]                    Units: .1\n",
      "         Unique values: 183                       Missing .: 0/290\n",
      "\n",
      "                  Mean: 19.3186\n",
      "             Std. dev.: 10.7238\n",
      "\n",
      "           Percentiles:     10%       25%       50%       75%       90%\n",
      "                            9.6      11.7     15.75      23.9      36.6\n"
     ]
    }
   ],
   "source": [
    "codebook hospitals_per_10k_female hospitals_per_10k_male native api black hispanic otherhispanic white nonwhite"
   ]
  },
  {
   "cell_type": "code",
   "execution_count": 9,
   "id": "497c11b4-d4ad-4f2d-9f4a-ad30c45d4a0c",
   "metadata": {},
   "outputs": [
    {
     "name": "stdout",
     "output_type": "stream",
     "text": [
      "\n",
      "        Hospital Rate per 10,000 Population for Women\n",
      "-------------------------------------------------------------\n",
      "      Percentiles      Smallest\n",
      " 1%          1.7            1.3\n",
      " 5%          2.1            1.5\n",
      "10%          2.3            1.7       Obs                 290\n",
      "25%          3.5            1.7       Sum of wgt.         290\n",
      "\n",
      "50%          4.5                      Mean           4.232414\n",
      "                        Largest       Std. dev.       1.17346\n",
      "75%          5.1            6.2\n",
      "90%          5.5            6.5       Variance       1.377008\n",
      "95%          5.8            6.7       Skewness      -.5011889\n",
      "99%          6.5            6.8       Kurtosis       2.385895\n"
     ]
    }
   ],
   "source": [
    "sum hospitals_per_10k_female, detail"
   ]
  },
  {
   "cell_type": "code",
   "execution_count": null,
   "id": "3e958231-daad-485c-a235-71c41ff10d6e",
   "metadata": {},
   "outputs": [],
   "source": []
  }
 ],
 "metadata": {
  "kernelspec": {
   "display_name": "Stata (nbstata)",
   "language": "stata",
   "name": "nbstata"
  },
  "language_info": {
   "file_extension": ".do",
   "mimetype": "text/x-stata",
   "name": "stata",
   "version": "17"
  }
 },
 "nbformat": 4,
 "nbformat_minor": 5
}
