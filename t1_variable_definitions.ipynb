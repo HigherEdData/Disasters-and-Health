{
 "cells": [
  {
   "cell_type": "markdown",
   "id": "50df08b8-6d56-48b1-a1b9-5f56fe5dd17d",
   "metadata": {},
   "source": [
    "# Table 2: Descriptive Statistics\n",
    "## CDC NEPH Asthma Hospitalization Rates"
   ]
  },
  {
   "cell_type": "code",
   "execution_count": 5,
   "id": "09870c36-8753-408d-87c5-8b894ac798eb",
   "metadata": {
    "tags": []
   },
   "outputs": [],
   "source": [
    "use /Users/emilyernst/Desktop/Disasters-and-Health/data/d_CDC_NEPH_asthma.dta, clear"
   ]
  },
  {
   "cell_type": "code",
   "execution_count": 28,
   "id": "c8e4c826-64b6-4226-b289-1f0594988494",
   "metadata": {
    "tags": []
   },
   "outputs": [
    {
     "name": "stdout",
     "output_type": "stream",
     "text": [
      "checking asdoc consistency and verifying not already installed...\n",
      "installing into /Users/emilyernst/Library/Application Support/Stata/ado/plus/..\n",
      "> .\n",
      "installation complete.\n"
     ]
    }
   ],
   "source": [
    "ssc install asdoc"
   ]
  },
  {
   "cell_type": "code",
   "execution_count": null,
   "id": "2a21f871-4d7c-4f10-8d81-c58f77307f89",
   "metadata": {},
   "outputs": [],
   "source": [
    "*asdoc des, replace title(Table 1: Variable Descriptions)\n",
    "    *save(tables/t1_variable)descriptions)"
   ]
  },
  {
   "cell_type": "code",
   "execution_count": 6,
   "id": "8447a31f-f3ae-4f3a-a94f-38084a6db851",
   "metadata": {
    "tags": []
   },
   "outputs": [
    {
     "name": "stdout",
     "output_type": "stream",
     "text": [
      "countyfips    native        hispanic      statefips     hospita~male\n",
      "year          api           otherhispa~c  state         hospita~Male\n",
      "nonwhite      black         white         county\n"
     ]
    }
   ],
   "source": [
    "ds"
   ]
  },
  {
   "cell_type": "code",
   "execution_count": null,
   "id": "1f3687b9-85cf-4f90-ba55-f0ea06dfdbd4",
   "metadata": {},
   "outputs": [],
   "source": [
    "codebook hospital_10kFemale"
   ]
  },
  {
   "cell_type": "code",
   "execution_count": 11,
   "id": "7703a0e2-6702-4356-835e-1e74c7e6e1e2",
   "metadata": {
    "tags": []
   },
   "outputs": [],
   "source": [
    "label variable hospital_10kFemale \"Hospital Rate per 10,000 Population for Women\""
   ]
  },
  {
   "cell_type": "code",
   "execution_count": 12,
   "id": "5c327ef0-508a-4828-8f99-c30c405089ac",
   "metadata": {
    "tags": []
   },
   "outputs": [],
   "source": [
    "label variable hospital_10kMale \"Hospital Rate per 10,000 Population for Men\""
   ]
  },
  {
   "cell_type": "code",
   "execution_count": 30,
   "id": "5d9933a2-4e48-431b-a123-474256beeafc",
   "metadata": {},
   "outputs": [
    {
     "name": "stdout",
     "output_type": "stream",
     "text": [
      "\u001b[31moption sd() not allowed\n",
      "r(198);\u001b[0m\n"
     ]
    }
   ],
   "source": [
    "**Variable Definitions tables:\n",
    "//Table 1. Asthma Hospitalization Rates in California 2016-2020\n",
    "\n",
    "eststo contractterm: quietly estpost summarize hospital_10k*\n",
    "\n",
    "esttab, cells(\"mean(fmt(2))\") label nodepvar nonumbers  mgroups(\"Rate\") mtitle(\" \") ///\n",
    "title(\"Asthma Hospitalization Rates in California 2016-2020\") noobs noabbrev modelwidth(20)"
   ]
  },
  {
   "cell_type": "code",
   "execution_count": 27,
   "id": "e0e7bd4d-e7be-4227-942f-0f3ebcab247f",
   "metadata": {
    "tags": []
   },
   "outputs": [
    {
     "name": "stdout",
     "output_type": "stream",
     "text": [
      "\n",
      "Racial Demographics in California 2016-2020\n",
      "-----------------------------------------\n",
      "                                  Portion\n",
      "                             All Counties\n",
      "                                     mean\n",
      "-----------------------------------------\n",
      "Asian/Pacific Islander including Hispanic                 8.42\n",
      "Black including Hispanic                 3.57\n",
      "Hispanic All Races                  30.95\n",
      "American Indian/Alaskan Native including Hispanic                 3.24\n",
      "All Non-White Races including Hispanic                19.32\n",
      "white including Hispanic                80.68\n",
      "-----------------------------------------\n"
     ]
    }
   ],
   "source": [
    "//Table 2. Race and Ethnicity Demographics of CA Counties\n",
    "eststo contractterm: quietly estpost summarize api black hispanic native nonwhite white\n",
    "\n",
    "esttab, cells(\"mean(fmt(2))\") label nodepvar nonumbers  mgroups(\"Portion\") mtitle(\"All Counties\") ///\n",
    "title(\"Racial Demographics in California 2016-2020\") noobs noabbrev modelwidth(20)"
   ]
  },
  {
   "cell_type": "code",
   "execution_count": 42,
   "id": "27cf3661-812b-4bf2-a4b1-9af46e417627",
   "metadata": {
    "tags": []
   },
   "outputs": [
    {
     "name": "stdout",
     "output_type": "stream",
     "text": [
      "file d_CDC_NEPH_asthma.dta saved\n"
     ]
    }
   ],
   "source": [
    "save d_CDC_NEPH_asthma.dta, replace"
   ]
  },
  {
   "cell_type": "code",
   "execution_count": null,
   "id": "076f2b4b-bb43-4147-9da1-a54873a0b1d0",
   "metadata": {},
   "outputs": [],
   "source": [
    "/***EDIT: Once formatted correctly,^^^ this makes an .rtf which I can open/copy into ///\n",
    "word for both tables. These can be used in a paper.\n",
    "\n",
    "esttab using tables/t2_descriptive.rtf, cells (\"mean (fmt(2))\" \"sd(fmt (2))\") ///\n",
    "replace\n",
    "\n",
    "qui esttab all using tables/t2_quantitative_variables.rtf, cells(\"mean(fmt (2))\") /11\n",
    "label nodepvar nonumbers mtitle(\" \") 111\n",
    "\n",
    "title (\"Table 1. Quantitative Variables Assessed in CA Hospital Use\") noobs ///\n",
    "noabbrev modelwidth(20) note (Note: ****) replace\n",
    "\n",
    "QUESTION: What should my note say? "
   ]
  },
  {
   "cell_type": "code",
   "execution_count": null,
   "id": "c524c95d-b71d-459d-a1ad-d9930e2e9a4a",
   "metadata": {},
   "outputs": [],
   "source": []
  }
 ],
 "metadata": {
  "kernelspec": {
   "display_name": "Stata (nbstata)",
   "language": "stata",
   "name": "nbstata"
  },
  "language_info": {
   "file_extension": ".do",
   "mimetype": "text/x-stata",
   "name": "stata",
   "version": "17"
  }
 },
 "nbformat": 4,
 "nbformat_minor": 5
}
