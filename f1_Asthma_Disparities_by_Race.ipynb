{
 "cells": [
  {
   "cell_type": "code",
   "execution_count": 1,
   "id": "04338067-e359-4f52-a27b-6430449060a1",
   "metadata": {
    "tags": []
   },
   "outputs": [],
   "source": [
    "**If you haven't already downloaded data and tables, the following code\n",
    "**will make a data directory, make a figures directory, and download the\n",
    "**the dataset for this figure to the data directory.\n",
    "\n",
    "//DO THIS: time series line graph"
   ]
  },
  {
   "cell_type": "code",
   "execution_count": 2,
   "id": "c52dba02-7eb8-42ce-bb4b-b10f7d4622d6",
   "metadata": {
    "tags": []
   },
   "outputs": [],
   "source": [
    "*mkdir data\n",
    "mkdir figures\n",
    "\n",
    "copy data/d_CDC_NEPH_asthma.dta replace"
   ]
  },
  {
   "cell_type": "code",
   "execution_count": 1,
   "id": "4efc16c5-ebfe-4fd8-a562-240345e68f56",
   "metadata": {
    "tags": []
   },
   "outputs": [
    {
     "data": {
      "text/html": [
       "<style>div.jp-Notebook .datagrid-container {min-height: 448px; }</style>"
      ],
      "text/plain": [
       "<IPython.core.display.HTML object>"
      ]
     },
     "metadata": {},
     "output_type": "display_data"
    }
   ],
   "source": [
    "use data/d_CDC_NEPH_asthma.dta"
   ]
  },
  {
   "cell_type": "code",
   "execution_count": 2,
   "id": "75ae768d-d5d1-4400-8485-d3b52266855c",
   "metadata": {
    "tags": []
   },
   "outputs": [
    {
     "name": "stdout",
     "output_type": "stream",
     "text": [
      "countyfips    indian_value  allhispani~e  female_value  _merge\n",
      "year          asian_value   otherhispa~e  male_value\n",
      "nonwhite_v~e  black_value   white_value   county\n"
     ]
    }
   ],
   "source": [
    "ds"
   ]
  },
  {
   "cell_type": "code",
   "execution_count": 5,
   "id": "c0aa4cbe-4e53-4e1a-aa5d-40812a5d9bfe",
   "metadata": {
    "tags": []
   },
   "outputs": [
    {
     "name": "stdout",
     "output_type": "stream",
     "text": [
      "\u001b[31mcontrol not found\n",
      "r(111);\u001b[0m\n"
     ]
    }
   ],
   "source": [
    "**what does this do:\n",
    "qui {\n",
    "drop if control<1\n",
    "collapse (sum) efdeexc, by(year control)\n",
    "reshape wide efdeexc, i(year) j(control)\n",
    "label var efdeexc3 \"for-profit    \"\n",
    "label var efdeexc2 \"nonprofit (private)\"\n",
    "label var efdeexc1 \"nonprofit (public)\"  \n",
    "}"
   ]
  },
  {
   "cell_type": "code",
   "execution_count": null,
   "id": "2a1ecddf-3969-4f18-acf8-99a62e6e1060",
   "metadata": {},
   "outputs": [],
   "source": []
  }
 ],
 "metadata": {
  "kernelspec": {
   "display_name": "Stata (nbstata)",
   "language": "stata",
   "name": "nbstata"
  },
  "language_info": {
   "file_extension": ".do",
   "mimetype": "text/x-stata",
   "name": "stata",
   "version": "17"
  }
 },
 "nbformat": 4,
 "nbformat_minor": 5
}
