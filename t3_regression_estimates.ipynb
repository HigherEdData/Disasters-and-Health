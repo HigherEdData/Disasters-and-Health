{
 "cells": [
  {
   "cell_type": "markdown",
   "id": "fdb9ec05-a2b1-43cd-8643-f2fed678f021",
   "metadata": {},
   "source": [
    "Include a \"Table 3\" t3_regression_estimates.ipynb Notebook that reports estimates of OLS or logit regression results with at least sets of coefficients for different model specifications."
   ]
  },
  {
   "cell_type": "code",
   "execution_count": 27,
   "id": "f116239b-fdc5-4a06-a219-f7f5068a8e93",
   "metadata": {},
   "outputs": [],
   "source": [
    "//Try the regression out (longitudinal analysis)\n",
    "//Answer: what do you plan to do with this data for the project. DO THIS: time series line graph"
   ]
  },
  {
   "cell_type": "code",
   "execution_count": 28,
   "id": "4e9c35e9-52c2-4a30-a3be-048815dec699",
   "metadata": {
    "tags": []
   },
   "outputs": [],
   "source": [
    "use data/d_CDC_NEPH_asthma.dta, replace"
   ]
  },
  {
   "cell_type": "code",
   "execution_count": 29,
   "id": "0d49f385-3c98-42ec-9ea3-093194437646",
   "metadata": {
    "tags": []
   },
   "outputs": [
    {
     "name": "stdout",
     "output_type": "stream",
     "text": [
      "countyfips    native        hispanic      hospita~male\n",
      "year          api           otherhispa~c  hospita~Male\n",
      "nonwhite      black         white         county\n"
     ]
    }
   ],
   "source": [
    "ds"
   ]
  },
  {
   "cell_type": "code",
   "execution_count": 30,
   "id": "89799ed6-d1a8-4150-be8f-c848fd68a269",
   "metadata": {
    "tags": []
   },
   "outputs": [
    {
     "name": "stdout",
     "output_type": "stream",
     "text": [
      "(201 missing values generated)\n"
     ]
    }
   ],
   "source": [
    "gen dis_hospital_10k=1 if hospital_10kFemale>=5 | hospital_10kMale>=5"
   ]
  },
  {
   "cell_type": "code",
   "execution_count": 31,
   "id": "bfde1f23-0f04-4ea3-aee3-c1bcde101431",
   "metadata": {
    "tags": []
   },
   "outputs": [
    {
     "name": "stdout",
     "output_type": "stream",
     "text": [
      "(259 real changes made)\n"
     ]
    }
   ],
   "source": [
    "replace dis_hospital_10k=0 if hospital_10kFemale<5 | hospital_10kMale<5"
   ]
  },
  {
   "cell_type": "code",
   "execution_count": 32,
   "id": "9d16daf1-c443-46b3-95a1-571423301ca3",
   "metadata": {
    "tags": []
   },
   "outputs": [],
   "source": [
    "label var dis_hospital_10k \"Disparities in Asthma Admissions\""
   ]
  },
  {
   "cell_type": "code",
   "execution_count": 33,
   "id": "2d39ba97-a38a-4bde-a018-1eb94d3cf1f2",
   "metadata": {
    "tags": []
   },
   "outputs": [
    {
     "name": "stdout",
     "output_type": "stream",
     "text": [
      "\n",
      "-------------------------------------------------------------------------------\n",
      "dis_hospital_10k                               Disparities in Asthma Admissions\n",
      "-------------------------------------------------------------------------------\n",
      "\n",
      "                  Type: Numeric (float)\n",
      "\n",
      "                 Range: [0,1]                         Units: 1\n",
      "         Unique values: 2                         Missing .: 0/290\n",
      "\n",
      "            Tabulation: Freq.  Value\n",
      "                          259  0\n",
      "                           31  1\n"
     ]
    }
   ],
   "source": [
    "codebook dis_hospital_10k"
   ]
  },
  {
   "cell_type": "code",
   "execution_count": 34,
   "id": "0e212d24-a611-443c-8fff-d933d485be9d",
   "metadata": {
    "tags": []
   },
   "outputs": [],
   "source": [
    "est clear"
   ]
  },
  {
   "cell_type": "code",
   "execution_count": 35,
   "id": "fe148ee1-6e06-48e3-a766-12727ae9c87e",
   "metadata": {
    "tags": []
   },
   "outputs": [],
   "source": [
    "qui eststo: reg dis_hospital_10k c.countyfips c.year api black hispanic native nonwhite otherhispanic white"
   ]
  },
  {
   "cell_type": "code",
   "execution_count": 36,
   "id": "d6c8a739-d6b1-464e-a75c-ed486c3bbb51",
   "metadata": {
    "tags": []
   },
   "outputs": [],
   "source": [
    "qui eststo: logit dis_hospital_10k c.countyfips c.year api black hispanic native nonwhite otherhispanic white, ro\n",
    "qui eststo: margins, dydx(*) post atmeans"
   ]
  },
  {
   "cell_type": "code",
   "execution_count": 37,
   "id": "a94df286-f934-402f-9546-8cb5eac1b379",
   "metadata": {
    "tags": []
   },
   "outputs": [
    {
     "name": "stdout",
     "output_type": "stream",
     "text": [
      "\n",
      "“Odds Ratio”\n",
      "-----------------------------------------------------------------------\n",
      "                              (1)              (2)              (3)    \n",
      "                              OLS     MLE / logi~c     MLE margin~s    \n",
      "-----------------------------------------------------------------------\n",
      "main                                                                   \n",
      "CountyFIPS                  -0.00            -0.01            -0.00    \n",
      "                           (0.00)           (0.01)           (0.00)    \n",
      "Year                        -0.05 ***        -0.59 ***        -0.04 ***\n",
      "                           (0.01)           (0.12)           (0.01)    \n",
      "Asian/Pacific Isla~g         0.31             3.29             0.23    \n",
      "                           (0.29)           (2.82)           (0.19)    \n",
      "Black including Hi~c         0.31             3.32             0.23    \n",
      "                           (0.29)           (2.84)           (0.19)    \n",
      "Hispanic All Races           0.00 *           0.03 *           0.00 *  \n",
      "                           (0.00)           (0.01)           (0.00)    \n",
      "American Indian/Al~i         0.31             3.28             0.23    \n",
      "                           (0.29)           (2.84)           (0.19)    \n",
      "All Non-White Race~i        -0.31            -3.30            -0.23    \n",
      "                           (0.29)           (2.82)           (0.19)    \n",
      "Other Race, Hispanic         0.31             3.43             0.24    \n",
      "                           (0.29)           (2.83)           (0.19)    \n",
      "white including Hi~c         0.00             0.00             0.00    \n",
      "                              (.)              (.)              (.)    \n",
      "Constant                   100.69 ***      1216.50 ***                 \n",
      "                          (26.06)         (248.21)                     \n",
      "-----------------------------------------------------------------------\n",
      "r-squared                    0.08                                      \n",
      "observations                  290              290              290    \n",
      "-----------------------------------------------------------------------\n",
      "^ p<.1, * p<.05, ** p<.01, *** p<.001\n"
     ]
    }
   ],
   "source": [
    "esttab ///\n",
    ", cells(b(star fmt(2)) se(fmt(2) par)) stardetach  ///\n",
    " legend starlevels(^ .1 * .05 ** .01 *** .001) ///\n",
    "mlabels(\"OLS\" \"MLE / logistic\" \"MLE marginal effects\") title(“Odds Ratio”) ///\n",
    "collabels(none) label stats(r2 N, fmt(2 %9.0fc) label(r-squared observations))"
   ]
  },
  {
   "cell_type": "code",
   "execution_count": 38,
   "id": "70ae8ca1-5582-4a72-8d73-dc6326299491",
   "metadata": {
    "tags": []
   },
   "outputs": [
    {
     "name": "stdout",
     "output_type": "stream",
     "text": [
      "(output written to tables/t5_regression_estimates.rtf)\n"
     ]
    }
   ],
   "source": [
    "esttab using tables/t5_regression_estimates.rtf ///\n",
    ", cells(b(star fmt(2)) se(fmt(2) par)) stardetach  ///\n",
    " legend starlevels(^ .1 * .05 ** .01 *** .001) ///\n",
    "mlabels(\"OLS\" \"MLE\" \"MLE marginal effects\") title(“Odds Ratio”) ///\n",
    "collabels(none) label replace stats(r2 N, fmt(2 %9.0fc) label(r-squared observations))"
   ]
  },
  {
   "cell_type": "code",
   "execution_count": null,
   "id": "291331af-fc6a-4c09-b019-ab4a0ce7150f",
   "metadata": {},
   "outputs": [],
   "source": []
  }
 ],
 "metadata": {
  "kernelspec": {
   "display_name": "Stata (nbstata)",
   "language": "stata",
   "name": "nbstata"
  },
  "language_info": {
   "file_extension": ".do",
   "mimetype": "text/x-stata",
   "name": "stata",
   "version": "17"
  }
 },
 "nbformat": 4,
 "nbformat_minor": 5
}
