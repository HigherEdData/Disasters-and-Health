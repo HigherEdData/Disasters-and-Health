{
 "cells": [
  {
   "cell_type": "markdown",
   "id": "fdb9ec05-a2b1-43cd-8643-f2fed678f021",
   "metadata": {},
   "source": [
    "Include a \"Table 3\" t3_regression_estimates.ipynb Notebook that reports estimates of OLS or logit regression results with at least sets of coefficients for different model specifications."
   ]
  },
  {
   "cell_type": "code",
   "execution_count": null,
   "id": "f116239b-fdc5-4a06-a219-f7f5068a8e93",
   "metadata": {},
   "outputs": [],
   "source": [
    "//Try the regression out (longitudinal analysis0\n",
    "//Answer: what do you plan to do with this data for the project. DO THIS: time series line graph"
   ]
  }
 ],
 "metadata": {
  "kernelspec": {
   "display_name": "Stata (nbstata)",
   "language": "stata",
   "name": "nbstata"
  },
  "language_info": {
   "file_extension": ".do",
   "mimetype": "text/x-stata",
   "name": "stata",
   "version": "17"
  }
 },
 "nbformat": 4,
 "nbformat_minor": 5
}
